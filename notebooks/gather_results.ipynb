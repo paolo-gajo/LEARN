{
 "cells": [
  {
   "cell_type": "code",
   "execution_count": null,
   "id": "711df327",
   "metadata": {},
   "outputs": [
    {
     "name": "stdout",
     "output_type": "stream",
     "text": [
      "{'data_path': './data/', 'lr': 0.0002, 'train_steps': 207, 'eval_steps': 0, 'epochs': 3, 'n_icl_samples': 15, 'use_prompt_tags': 1, 'batch_size_train': 4, 'batch_size_eval': 4, 'grad_acc_steps': 1, 'max_seq_length': 2048, 'target_modules': 'q-k-v', 'load_in_4bit': False, 'load_in_8bit': False, 'verbose_eval': False, 'layout_path': './misc/prompt_layout_tags.txt', 'tags_path': './misc/prompt_tags.txt', 'seed': 0}\n",
      "{'data_path': './data/', 'lr': 0.0002, 'train_steps': 207, 'eval_steps': 0, 'epochs': 3, 'n_icl_samples': 20, 'use_prompt_tags': 1, 'batch_size_train': 4, 'batch_size_eval': 4, 'grad_acc_steps': 1, 'max_seq_length': 2048, 'target_modules': 'q-k-v', 'load_in_4bit': False, 'load_in_8bit': False, 'verbose_eval': False, 'layout_path': './misc/prompt_layout_tags.txt', 'tags_path': './misc/prompt_tags.txt', 'seed': 0}\n",
      "{'data_path': './data/', 'lr': 0.0002, 'train_steps': 207, 'eval_steps': 0, 'epochs': 3, 'n_icl_samples': 5, 'use_prompt_tags': 1, 'batch_size_train': 4, 'batch_size_eval': 4, 'grad_acc_steps': 1, 'max_seq_length': 2048, 'target_modules': 'q-k-v', 'load_in_4bit': False, 'load_in_8bit': False, 'verbose_eval': False, 'layout_path': './misc/prompt_layout_tags.txt', 'tags_path': './misc/prompt_tags.txt', 'seed': 0}\n",
      "{'data_path': './data/', 'lr': 0.0002, 'train_steps': 207, 'eval_steps': 0, 'epochs': 3, 'n_icl_samples': 15, 'use_prompt_tags': 0, 'batch_size_train': 4, 'batch_size_eval': 4, 'grad_acc_steps': 1, 'max_seq_length': 2048, 'target_modules': 'q-k-v', 'load_in_4bit': False, 'load_in_8bit': False, 'verbose_eval': False, 'layout_path': './misc/prompt_layout_tags.txt', 'tags_path': './misc/prompt_tags.txt', 'seed': 0}\n",
      "{'data_path': './data/', 'lr': 0.0002, 'train_steps': 207, 'eval_steps': 0, 'epochs': 3, 'n_icl_samples': 10, 'use_prompt_tags': 1, 'batch_size_train': 4, 'batch_size_eval': 4, 'grad_acc_steps': 1, 'max_seq_length': 2048, 'target_modules': 'q-k-v', 'load_in_4bit': False, 'load_in_8bit': False, 'verbose_eval': False, 'layout_path': './misc/prompt_layout_tags.txt', 'tags_path': './misc/prompt_tags.txt', 'seed': 0}\n",
      "{'data_path': './data/', 'lr': 0.0002, 'train_steps': 207, 'eval_steps': 0, 'epochs': 3, 'n_icl_samples': 0, 'use_prompt_tags': 0, 'batch_size_train': 4, 'batch_size_eval': 4, 'grad_acc_steps': 1, 'max_seq_length': 2048, 'target_modules': 'q-k-v', 'load_in_4bit': False, 'load_in_8bit': False, 'verbose_eval': False, 'layout_path': './misc/prompt_layout_tags.txt', 'tags_path': './misc/prompt_tags.txt', 'seed': 0}\n",
      "{'data_path': './data/', 'lr': 0.0002, 'train_steps': 207, 'eval_steps': 0, 'epochs': 3, 'n_icl_samples': 5, 'use_prompt_tags': 0, 'batch_size_train': 4, 'batch_size_eval': 4, 'grad_acc_steps': 1, 'max_seq_length': 2048, 'target_modules': 'q-k-v', 'load_in_4bit': False, 'load_in_8bit': False, 'verbose_eval': False, 'layout_path': './misc/prompt_layout_tags.txt', 'tags_path': './misc/prompt_tags.txt', 'seed': 0}\n",
      "{'data_path': './data/', 'lr': 0.0002, 'train_steps': 207, 'eval_steps': 0, 'epochs': 3, 'n_icl_samples': 20, 'use_prompt_tags': 0, 'batch_size_train': 4, 'batch_size_eval': 4, 'grad_acc_steps': 1, 'max_seq_length': 2048, 'target_modules': 'q-k-v', 'load_in_4bit': False, 'load_in_8bit': False, 'verbose_eval': False, 'layout_path': './misc/prompt_layout_tags.txt', 'tags_path': './misc/prompt_tags.txt', 'seed': 0}\n",
      "{'data_path': './data/', 'lr': 0.0002, 'train_steps': 207, 'eval_steps': 0, 'epochs': 3, 'n_icl_samples': 10, 'use_prompt_tags': 0, 'batch_size_train': 4, 'batch_size_eval': 4, 'grad_acc_steps': 1, 'max_seq_length': 2048, 'target_modules': 'q-k-v', 'load_in_4bit': False, 'load_in_8bit': False, 'verbose_eval': False, 'layout_path': './misc/prompt_layout_tags.txt', 'tags_path': './misc/prompt_tags.txt', 'seed': 0}\n",
      "{'data_path': './data/', 'lr': 0.0002, 'train_steps': 207, 'eval_steps': 0, 'epochs': 3, 'n_icl_samples': 0, 'use_prompt_tags': 1, 'batch_size_train': 4, 'batch_size_eval': 4, 'grad_acc_steps': 1, 'max_seq_length': 2048, 'target_modules': 'q-k-v', 'load_in_4bit': False, 'load_in_8bit': False, 'verbose_eval': False, 'layout_path': './misc/prompt_layout_tags.txt', 'tags_path': './misc/prompt_tags.txt', 'seed': 0}\n"
     ]
    }
   ],
   "source": [
    "import os\n",
    "import json\n",
    "import pandas as pd\n",
    "df = pd.DataFrame()\n",
    "for root, dirs, files in os.walk('../results'):\n",
    "    if 'args.json' in files:\n",
    "        # print(files)\n",
    "        config = json.load(open(os.path.join(root, 'args.json')))\n",
    "        results_dev = json.load(open(os.path.join(root, 'results_dev.json')))\n",
    "        results_test = json.load(open(os.path.join(root, 'results_test.json')))\n",
    "        entry = {\n",
    "            'model_name': config['']\n",
    "        }"
   ]
  }
 ],
 "metadata": {
  "kernelspec": {
   "display_name": ".env_clitit_25",
   "language": "python",
   "name": "python3"
  },
  "language_info": {
   "codemirror_mode": {
    "name": "ipython",
    "version": 3
   },
   "file_extension": ".py",
   "mimetype": "text/x-python",
   "name": "python",
   "nbconvert_exporter": "python",
   "pygments_lexer": "ipython3",
   "version": "3.11.12"
  }
 },
 "nbformat": 4,
 "nbformat_minor": 5
}
